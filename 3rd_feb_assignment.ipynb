{
 "cells": [
  {
   "cell_type": "markdown",
   "id": "b58e26f2-8c43-4b27-91c2-a7fa747622bd",
   "metadata": {},
   "source": [
    "## Q1"
   ]
  },
  {
   "cell_type": "markdown",
   "id": "4cd64a62-8139-451a-93e3-693a3c6e51ab",
   "metadata": {},
   "source": [
    "The keyword that is used to write a function is def."
   ]
  },
  {
   "cell_type": "code",
   "execution_count": 1,
   "id": "bce7f5a4-8456-4f6d-987f-6bd4eae11a16",
   "metadata": {},
   "outputs": [],
   "source": [
    "def oddReturn():\n",
    "    li=[]\n",
    "    for i in range(25):\n",
    "        if i %2 !=0:\n",
    "            li.append(i)\n",
    "    return li"
   ]
  },
  {
   "cell_type": "code",
   "execution_count": 2,
   "id": "d00ccd09-86cf-4487-a66c-2357c65313ad",
   "metadata": {},
   "outputs": [
    {
     "data": {
      "text/plain": [
       "[1, 3, 5, 7, 9, 11, 13, 15, 17, 19, 21, 23]"
      ]
     },
     "execution_count": 2,
     "metadata": {},
     "output_type": "execute_result"
    }
   ],
   "source": [
    "oddReturn()"
   ]
  },
  {
   "cell_type": "markdown",
   "id": "65099095-c037-47ee-bac8-54540d6ee890",
   "metadata": {},
   "source": [
    "## Q2"
   ]
  },
  {
   "cell_type": "markdown",
   "id": "ba0417b0-f644-4087-9ce5-963537e3e555",
   "metadata": {},
   "source": [
    "args and kwargs stands for argument and keyword arguments it is used when the motive is to pass unlimited numbers of parameters in function. The main difference between args and kwargs is that kwargs store the data in dictionary format while args store the value in tuple form. args is passed with single * while kwargs is passed by **."
   ]
  },
  {
   "cell_type": "code",
   "execution_count": 12,
   "id": "2291f04c-7017-4560-a945-70e95a89d5af",
   "metadata": {},
   "outputs": [],
   "source": [
    "def findNumber(*args,li=[]):\n",
    "    for x in args:\n",
    "        if type(x)==int or type(x)==float:\n",
    "            li.append(x)\n",
    "    return li\n",
    "    li.clear()"
   ]
  },
  {
   "cell_type": "code",
   "execution_count": 13,
   "id": "c37f14e8-9335-46b2-a57d-d949662dfe5d",
   "metadata": {},
   "outputs": [
    {
     "data": {
      "text/plain": [
       "[1, 2, 3, 4, 5]"
      ]
     },
     "execution_count": 13,
     "metadata": {},
     "output_type": "execute_result"
    }
   ],
   "source": [
    "findNumber(1,2,3,4,5,\"Class\",\"Home\")"
   ]
  },
  {
   "cell_type": "code",
   "execution_count": 14,
   "id": "61835e54-370e-439f-9b08-73b8162b2cd6",
   "metadata": {},
   "outputs": [
    {
     "name": "stdout",
     "output_type": "stream",
     "text": [
      "btc : 100000\n",
      "ethereum : 50000\n",
      "doge : 14\n",
      "shiba : 2\n"
     ]
    }
   ],
   "source": [
    "def hodlVal(**kwargs):\n",
    "    for x,y in kwargs.items():\n",
    "        print(x,\":\",y)\n",
    "hodlVal(btc=100000,ethereum=50000,doge=14,shiba=2)"
   ]
  },
  {
   "cell_type": "markdown",
   "id": "c4057646-e230-4639-92bf-543004bd5395",
   "metadata": {},
   "source": [
    "## Q3"
   ]
  },
  {
   "cell_type": "markdown",
   "id": "28baffab-a9a2-43d5-bc43-f787124c0cf3",
   "metadata": {},
   "source": [
    "An iterator is an object that contains a countable number of values.An iterator is an object that can be iterated upon, meaning that you can traverse through all the values.The method to initialize the iterator is iter() and the method to iterate the value is next() or we can also use for loop."
   ]
  },
  {
   "cell_type": "code",
   "execution_count": 20,
   "id": "6620104b-c8dd-4337-8a15-3eaed6f2a135",
   "metadata": {},
   "outputs": [
    {
     "name": "stdout",
     "output_type": "stream",
     "text": [
      "2\n",
      "4\n",
      "6\n",
      "8\n",
      "10\n"
     ]
    }
   ],
   "source": [
    "li = [2, 4, 6, 8, 10, 12, 14,16, 18, 20]\n",
    "x = iter(li)\n",
    "print(next(x))\n",
    "print(next(x))\n",
    "print(next(x))\n",
    "print(next(x))\n",
    "print(next(x))"
   ]
  },
  {
   "cell_type": "code",
   "execution_count": 21,
   "id": "c128410e-85c7-415f-810d-84688ff83eeb",
   "metadata": {},
   "outputs": [
    {
     "name": "stdout",
     "output_type": "stream",
     "text": [
      "12\n",
      "14\n",
      "16\n",
      "18\n",
      "20\n"
     ]
    }
   ],
   "source": [
    "for j in x:\n",
    "    print(j)"
   ]
  },
  {
   "cell_type": "markdown",
   "id": "7dc5371d-7353-4935-a6ba-447f988b281a",
   "metadata": {},
   "source": [
    "## Q4"
   ]
  },
  {
   "cell_type": "markdown",
   "id": "bafa5803-5498-4a54-a2c0-a2c4868f0bf6",
   "metadata": {},
   "source": [
    " A generator-function is defined like a normal function, but whenever it needs to generate a value, it does so with the yield keyword rather than return. If the body of a def contains yield, the function automatically becomes a generator function."
   ]
  },
  {
   "cell_type": "code",
   "execution_count": 22,
   "id": "9c384a70-d9a0-440c-9425-032ceeb08e3e",
   "metadata": {},
   "outputs": [],
   "source": [
    "def generateSomething():\n",
    "    yield \"hello\"\n",
    "    yield \"This is my first function\""
   ]
  },
  {
   "cell_type": "code",
   "execution_count": 87,
   "id": "6c609252-1d56-4695-8c21-1968306ceeb8",
   "metadata": {},
   "outputs": [
    {
     "name": "stdout",
     "output_type": "stream",
     "text": [
      "hello\n",
      "This is my first function\n"
     ]
    }
   ],
   "source": [
    "gen = generateSomething()\n",
    "for x in range(2):\n",
    "    print(next(gen))"
   ]
  },
  {
   "cell_type": "markdown",
   "id": "36792bb1-6591-4226-8963-061d09bb5205",
   "metadata": {},
   "source": [
    "## Q5"
   ]
  },
  {
   "cell_type": "code",
   "execution_count": 97,
   "id": "5f709b9a-14e2-400e-8fb2-07dc91ccece6",
   "metadata": {},
   "outputs": [],
   "source": [
    "from math import sqrt\n",
    "def isprime(n):\n",
    "    if n<=1:\n",
    "        return False\n",
    "    if n==2:\n",
    "        return True\n",
    "    if n%2==0:\n",
    "        return False\n",
    "    x = 3\n",
    "    while x <= sqrt(n):\n",
    "        if n%x==0:\n",
    "            return False\n",
    "        x = x + 1\n",
    "    return True"
   ]
  },
  {
   "cell_type": "code",
   "execution_count": 98,
   "id": "89bce9b2-4e16-4463-bb85-016585df0791",
   "metadata": {},
   "outputs": [],
   "source": [
    "def primeGen():\n",
    "    counter =1\n",
    "    while counter <=1000:\n",
    "        if isprime(counter):\n",
    "            yield counter\n",
    "        counter+=1"
   ]
  },
  {
   "cell_type": "code",
   "execution_count": 99,
   "id": "7d85ad44-6fcd-4a81-9cb1-6c91745b6e0f",
   "metadata": {},
   "outputs": [],
   "source": [
    "prime = primeGen()"
   ]
  },
  {
   "cell_type": "code",
   "execution_count": 100,
   "id": "dc97cd47-74a3-49fb-ac12-1a284955013d",
   "metadata": {},
   "outputs": [
    {
     "name": "stdout",
     "output_type": "stream",
     "text": [
      "2\n",
      "3\n",
      "5\n",
      "7\n",
      "11\n",
      "13\n",
      "17\n",
      "19\n",
      "23\n",
      "29\n",
      "31\n",
      "37\n",
      "41\n",
      "43\n",
      "47\n",
      "53\n",
      "59\n",
      "61\n",
      "67\n",
      "71\n"
     ]
    }
   ],
   "source": [
    "for i in range(20):\n",
    "    print(next(prime))"
   ]
  },
  {
   "cell_type": "markdown",
   "id": "8bbef9e4-82a8-433a-8b9d-4286cfa17211",
   "metadata": {},
   "source": [
    "## Q6"
   ]
  },
  {
   "cell_type": "code",
   "execution_count": 102,
   "id": "e1ccef2e-ade8-40d3-aa24-22fb381b005c",
   "metadata": {},
   "outputs": [
    {
     "name": "stdout",
     "output_type": "stream",
     "text": [
      "0\n",
      "1\n",
      "1\n",
      "2\n",
      "3\n",
      "5\n",
      "8\n",
      "13\n",
      "21\n",
      "34\n"
     ]
    }
   ],
   "source": [
    "counter = 0\n",
    "num=10\n",
    "a,b=0,1\n",
    "while counter<num:\n",
    "    print(a)\n",
    "    a,b = b,a+b\n",
    "    counter+=1"
   ]
  },
  {
   "cell_type": "markdown",
   "id": "a5818d73-9315-417f-86e8-f21c63aa3f17",
   "metadata": {},
   "source": [
    "## Q7"
   ]
  },
  {
   "cell_type": "code",
   "execution_count": 103,
   "id": "44650d55-16a9-4e54-97a6-7d4a1a38f7fc",
   "metadata": {},
   "outputs": [
    {
     "data": {
      "text/plain": [
       "['p', 'w', 's', 'k', 'i', 'l', 'l', 's']"
      ]
     },
     "execution_count": 103,
     "metadata": {},
     "output_type": "execute_result"
    }
   ],
   "source": [
    "[x for x in 'pwskills']"
   ]
  },
  {
   "cell_type": "code",
   "execution_count": 104,
   "id": "48bc7b00-9661-4f70-8ab6-4d4c7473c397",
   "metadata": {},
   "outputs": [],
   "source": [
    "a=  list()\n",
    "a.extend('pwskills')"
   ]
  },
  {
   "cell_type": "code",
   "execution_count": 105,
   "id": "c9b1796b-1b60-4d52-af97-0dc9cb001cd3",
   "metadata": {},
   "outputs": [
    {
     "data": {
      "text/plain": [
       "['p', 'w', 's', 'k', 'i', 'l', 'l', 's']"
      ]
     },
     "execution_count": 105,
     "metadata": {},
     "output_type": "execute_result"
    }
   ],
   "source": [
    "a"
   ]
  },
  {
   "cell_type": "markdown",
   "id": "c3b2d3fc-7719-4c41-a308-9d9eb1d33e8d",
   "metadata": {},
   "source": [
    "## Q8"
   ]
  },
  {
   "cell_type": "code",
   "execution_count": 146,
   "id": "53378ce6-508c-4f1d-a763-7432032ddadd",
   "metadata": {},
   "outputs": [
    {
     "name": "stdin",
     "output_type": "stream",
     "text": [
      "Please Enter the number: 1221\n"
     ]
    },
    {
     "name": "stdout",
     "output_type": "stream",
     "text": [
      "1221 is a palindrome function\n"
     ]
    }
   ],
   "source": [
    "number = input(\"Please Enter the number:\")\n",
    "counter=len(number)\n",
    "x=0\n",
    "rev=''\n",
    "norm=''\n",
    "while x<counter:\n",
    "    rev += number[counter-1-x]\n",
    "    norm += number[x]\n",
    "    x+=1\n",
    "if rev == norm:\n",
    "    print(f\"{norm} is a palindrome function\")\n",
    "else:\n",
    "    print(f\"{norm} is a not palindrome function\")"
   ]
  },
  {
   "cell_type": "code",
   "execution_count": 147,
   "id": "31db2ca1-5bd3-4fd7-8418-db968c0ae1ad",
   "metadata": {},
   "outputs": [
    {
     "name": "stdin",
     "output_type": "stream",
     "text": [
      "Enter any number: 1221\n"
     ]
    },
    {
     "name": "stdout",
     "output_type": "stream",
     "text": [
      "The 1221 number is palindrome!\n"
     ]
    }
   ],
   "source": [
    "num=int(input(\"Enter any number:\"))\n",
    "temp=num\n",
    "rev=0\n",
    "while(num>0):\n",
    "    dig=num%10\n",
    "    rev=rev*10+dig\n",
    "    num=num//10\n",
    "if(temp==rev):\n",
    "    print(\"The {0} number is palindrome!\".format(temp))\n",
    "else:\n",
    "    print(\"Not a palindrome!\")"
   ]
  },
  {
   "cell_type": "markdown",
   "id": "945c5874-b743-4019-bb93-3ffe30882c04",
   "metadata": {},
   "source": [
    "## Q9"
   ]
  },
  {
   "cell_type": "code",
   "execution_count": 149,
   "id": "6eabc06c-9ffd-4ca6-9a0f-5d169b213ee6",
   "metadata": {},
   "outputs": [],
   "source": [
    "a = [x for x in range(1,101) if x %2 !=0]"
   ]
  },
  {
   "cell_type": "code",
   "execution_count": 150,
   "id": "5bad64f7-7ab1-4d93-8bff-b884e38d364c",
   "metadata": {},
   "outputs": [
    {
     "name": "stdout",
     "output_type": "stream",
     "text": [
      "[1, 3, 5, 7, 9, 11, 13, 15, 17, 19, 21, 23, 25, 27, 29, 31, 33, 35, 37, 39, 41, 43, 45, 47, 49, 51, 53, 55, 57, 59, 61, 63, 65, 67, 69, 71, 73, 75, 77, 79, 81, 83, 85, 87, 89, 91, 93, 95, 97, 99]\n"
     ]
    }
   ],
   "source": [
    "print(a)"
   ]
  },
  {
   "cell_type": "code",
   "execution_count": null,
   "id": "91b003ba-9390-4eeb-a209-98ef4138ec9b",
   "metadata": {},
   "outputs": [],
   "source": []
  }
 ],
 "metadata": {
  "kernelspec": {
   "display_name": "Python 3 (ipykernel)",
   "language": "python",
   "name": "python3"
  },
  "language_info": {
   "codemirror_mode": {
    "name": "ipython",
    "version": 3
   },
   "file_extension": ".py",
   "mimetype": "text/x-python",
   "name": "python",
   "nbconvert_exporter": "python",
   "pygments_lexer": "ipython3",
   "version": "3.10.8"
  }
 },
 "nbformat": 4,
 "nbformat_minor": 5
}
